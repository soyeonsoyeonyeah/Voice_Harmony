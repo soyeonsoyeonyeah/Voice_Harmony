{
 "cells": [
  {
   "cell_type": "code",
   "execution_count": 1,
   "id": "1fd3d82f-3fe7-4ca0-a8ae-e5d42a88b670",
   "metadata": {},
   "outputs": [],
   "source": [
    "import time\n",
    "import threading\n",
    "from tkinter import *\n",
    "\n",
    "#윈도우 창 생성\n",
    "win = Tk()\n",
    "win.geometry(\"300x150\")\n",
    "\n",
    "#반복문 종료 변수 stop이 True이면 반복문 종료\n",
    "stop = False"
   ]
  },
  {
   "cell_type": "code",
   "execution_count": 2,
   "id": "85368123-62b4-4ac0-813a-1808a955fd4a",
   "metadata": {},
   "outputs": [
    {
     "name": "stderr",
     "output_type": "stream",
     "text": [
      "C:\\ProgramData\\anaconda3\\envs\\ict_ai_project_env01\\lib\\site-packages\\torch\\cuda\\__init__.py:141: UserWarning: CUDA initialization: The NVIDIA driver on your system is too old (found version 11080). Please update your GPU driver by downloading and installing a new version from the URL: http://www.nvidia.com/Download/index.aspx Alternatively, go to: https://pytorch.org to install a PyTorch version that has been compiled with your version of the CUDA driver. (Triggered internally at C:\\cb\\pytorch_1000000000000\\work\\c10\\cuda\\CUDAFunctions.cpp:108.)\n",
      "  return torch._C._cuda_getDeviceCount() > 0\n"
     ]
    }
   ],
   "source": [
    "import whisper\n",
    "\n",
    "model = whisper.load_model(\"medium\")"
   ]
  },
  {
   "cell_type": "code",
   "execution_count": 3,
   "id": "1a59f230-a3e1-44f3-8960-b8e4e5cfd9e9",
   "metadata": {},
   "outputs": [],
   "source": [
    "import pyaudio\n",
    "import wave\n",
    "\n",
    "audio_info = pyaudio.PyAudio()"
   ]
  },
  {
   "cell_type": "code",
   "execution_count": 4,
   "id": "85099266-e638-44b1-ac94-88b47be138b5",
   "metadata": {},
   "outputs": [],
   "source": [
    "import pyaudio\n",
    "import wave\n",
    "\n",
    "def button_start_command():\n",
    "    global stop\n",
    "    stop = False\n",
    "\n",
    "    FORMAT = pyaudio.paInt16\n",
    "    CHANNELS = 1\n",
    "    RATE = 16000\n",
    "    CHUNK = 1024\n",
    "    RECORD_SECONDS = 10\n",
    "    WAVE_OUTPUT_FILENAME = \"output.wav\"\n",
    "\n",
    "    while True:\n",
    "        audio = pyaudio.PyAudio()\n",
    "\n",
    "        stream = audio.open(\n",
    "                            format=FORMAT,\n",
    "                            channels=CHANNELS,\n",
    "                            rate=RATE,\n",
    "                            input=True,\n",
    "                            frames_per_buffer=CHUNK,\n",
    "                            input_device_index=1\n",
    "        )\n",
    "\n",
    "        frames = []\n",
    "        for i in range(int(RATE / CHUNK * RECORD_SECONDS)):\n",
    "            data = stream.read(CHUNK)\n",
    "            frames.append(data)\n",
    "\n",
    "        stream.stop_stream()\n",
    "        stream.close()\n",
    "        audio.terminate()\n",
    "\n",
    "        waveFile = wave.open(WAVE_OUTPUT_FILENAME, 'wb')\n",
    "        waveFile.setnchannels(CHANNELS)\n",
    "        waveFile.setsampwidth(audio.get_sample_size(FORMAT))\n",
    "        waveFile.setframerate(RATE)\n",
    "        waveFile.writeframes(b''.join(frames))\n",
    "        waveFile.close()\n",
    "\n",
    "        audio = whisper.pad_or_trim(whisper.load_audio(\"output.wav\"))\n",
    "\n",
    "        print(\"음성 내용: \", whisper.transcribe(model, audio)[\"text\"])\n",
    "\n",
    "        if stop:\n",
    "            break"
   ]
  },
  {
   "cell_type": "code",
   "execution_count": 5,
   "id": "b1ab2d9a-ff66-4bda-a2e0-4b1568ffa829",
   "metadata": {},
   "outputs": [],
   "source": [
    "def button_starter():\n",
    "    t = threading.Thread(target=button_start_command)\n",
    "    t.start()"
   ]
  },
  {
   "cell_type": "code",
   "execution_count": 6,
   "id": "bc6cde8c-f6ff-45d6-a68f-91ead29d462b",
   "metadata": {},
   "outputs": [],
   "source": [
    "def button_stop_command():\n",
    "    global stop\n",
    "    print(\"녹음 종료 예정\")\n",
    "    stop = True"
   ]
  },
  {
   "cell_type": "code",
   "execution_count": 7,
   "id": "5dfbd2e6-1f42-4f94-a114-b8ad9277b266",
   "metadata": {},
   "outputs": [
    {
     "name": "stderr",
     "output_type": "stream",
     "text": [
      "C:\\ProgramData\\anaconda3\\envs\\ict_ai_project_env01\\lib\\site-packages\\whisper\\transcribe.py:115: UserWarning: FP16 is not supported on CPU; using FP32 instead\n",
      "  warnings.warn(\"FP16 is not supported on CPU; using FP32 instead\")\n"
     ]
    },
    {
     "name": "stdout",
     "output_type": "stream",
     "text": [
      "녹음 종료 예정\n",
      "음성 내용:   안녕하세요 저희는 한국 폴리텍 대학교 성남캠퍼스에서 보이스 도움이 프로젝트를 진행 중입니다. 현재 음성 변환 테스트 중입니다.\n"
     ]
    }
   ],
   "source": [
    "button1 = Button(win, text=\"녹음시작\", command=button_starter)\n",
    "\n",
    "button2 = Button(win, text=\"녹음종료\", command=button_stop_command)\n",
    "\n",
    "button1.pack(fill=X, ipady=10)\n",
    "button2.pack(fill=X, ipady=10)\n",
    "\n",
    "win.mainloop()"
   ]
  },
  {
   "cell_type": "code",
   "execution_count": null,
   "id": "22164174-806d-4fcd-9833-2cc4a438f002",
   "metadata": {},
   "outputs": [],
   "source": []
  }
 ],
 "metadata": {
  "kernelspec": {
   "display_name": "Python 3 (ipykernel)",
   "language": "python",
   "name": "python3"
  },
  "language_info": {
   "codemirror_mode": {
    "name": "ipython",
    "version": 3
   },
   "file_extension": ".py",
   "mimetype": "text/x-python",
   "name": "python",
   "nbconvert_exporter": "python",
   "pygments_lexer": "ipython3",
   "version": "3.10.14"
  }
 },
 "nbformat": 4,
 "nbformat_minor": 5
}
