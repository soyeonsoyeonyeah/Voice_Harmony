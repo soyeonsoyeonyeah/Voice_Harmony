{
 "cells": [
  {
   "cell_type": "code",
   "execution_count": 1,
   "id": "57e49bd9-2a3b-4bf4-9e96-76cac3b87711",
   "metadata": {},
   "outputs": [
    {
     "name": "stdout",
     "output_type": "stream",
     "text": [
      "Channels:\n",
      " - pytorch\n",
      " - nvidia\n",
      " - defaults\n",
      "Platform: win-64\n",
      "Collecting package metadata (repodata.json): ...working... done\n",
      "Solving environment: ...working... done\n",
      "\n",
      "# All requested packages already installed.\n",
      "\n"
     ]
    }
   ],
   "source": [
    "! conda install pytorch==2.2.1 torchvision==0.17.1 torchaudio==2.2.1 pytorch-cuda=12.1 -c pytorch -c nvidia -y"
   ]
  },
  {
   "cell_type": "code",
   "execution_count": 2,
   "id": "9d832457-10dd-439c-a6fe-2da037efbf25",
   "metadata": {},
   "outputs": [
    {
     "name": "stdout",
     "output_type": "stream",
     "text": [
      "Channels:\n",
      " - conda-forge\n",
      " - defaults\n",
      " - nvidia\n",
      " - pytorch\n",
      "Platform: win-64\n",
      "Collecting package metadata (repodata.json): ...working... done\n",
      "Solving environment: ...working... done\n",
      "\n",
      "## Package Plan ##\n",
      "\n",
      "  environment location: C:\\ProgramData\\anaconda3\\envs\\ict_ai_project_env01\n",
      "\n",
      "  added / updated specs:\n",
      "    - ffmpeg\n",
      "\n",
      "\n",
      "The following packages will be downloaded:\n",
      "\n",
      "    package                    |            build\n",
      "    ---------------------------|-----------------\n",
      "    aom-3.9.1                  |       he0c23c2_0         1.9 MB  conda-forge\n",
      "    ca-certificates-2024.8.30  |       h56e8100_0         155 KB  conda-forge\n",
      "    cairo-1.18.0               |       h32b962e_3         1.4 MB  conda-forge\n",
      "    certifi-2024.7.4           |     pyhd8ed1ab_0         156 KB  conda-forge\n",
      "    dav1d-1.2.1                |       hcfcfb64_0         604 KB  conda-forge\n",
      "    expat-2.6.2                |       h63175ca_0         224 KB  conda-forge\n",
      "    ffmpeg-7.0.2               | gpl_h9cf63cc_102         9.5 MB  conda-forge\n",
      "    font-ttf-dejavu-sans-mono-2.37|       hab24e00_0         388 KB  conda-forge\n",
      "    font-ttf-inconsolata-3.000 |       h77eed37_0          94 KB  conda-forge\n",
      "    font-ttf-source-code-pro-2.038|       h77eed37_0         684 KB  conda-forge\n",
      "    font-ttf-ubuntu-0.83       |       h77eed37_2         1.5 MB  conda-forge\n",
      "    fontconfig-2.14.2          |       hbde0cde_0         186 KB  conda-forge\n",
      "    fonts-conda-ecosystem-1    |                0           4 KB  conda-forge\n",
      "    fonts-conda-forge-1        |                0           4 KB  conda-forge\n",
      "    freetype-2.12.1            |       hdaf720e_2         498 KB  conda-forge\n",
      "    graphite2-1.3.13           |    h63175ca_1003          93 KB  conda-forge\n",
      "    harfbuzz-9.0.0             |       h2bedf89_1         1.0 MB  conda-forge\n",
      "    icu-75.1                   |       he0c23c2_0        13.9 MB  conda-forge\n",
      "    libexpat-2.6.2             |       h63175ca_0         136 KB  conda-forge\n",
      "    libglib-2.80.3             |       h7025463_2         3.6 MB  conda-forge\n",
      "    libiconv-1.17              |       hcfcfb64_2         621 KB  conda-forge\n",
      "    libintl-0.22.5             |       h5728263_3          93 KB  conda-forge\n",
      "    libopus-1.3.1              |       h8ffe710_1         255 KB  conda-forge\n",
      "    libpng-1.6.43              |       h19919ed_0         339 KB  conda-forge\n",
      "    libsqlite-3.46.0           |       h2466b09_0         856 KB  conda-forge\n",
      "    libtiff-4.5.0              |       h8a3f274_0         1.2 MB\n",
      "    libwebp-1.3.2              |       hcfcfb64_1          69 KB  conda-forge\n",
      "    libxml2-2.12.7             |       h0f24e4e_4         1.6 MB  conda-forge\n",
      "    libzlib-1.3.1              |       h2466b09_1          55 KB  conda-forge\n",
      "    openh264-2.4.1             |       h63175ca_0         400 KB  conda-forge\n",
      "    openssl-3.3.1              |       h2466b09_3         8.0 MB  conda-forge\n",
      "    pcre2-10.44                |       h3d7b363_2         802 KB  conda-forge\n",
      "    pillow-9.3.0               |  py310hdc2b20a_1        1002 KB\n",
      "    pixman-0.43.4              |       h63175ca_0         451 KB  conda-forge\n",
      "    python-3.10.14             |h4de0772_0_cpython        15.1 MB  conda-forge\n",
      "    svt-av1-2.2.1              |       he0c23c2_0         1.6 MB  conda-forge\n",
      "    tk-8.6.13                  |       h5226925_1         3.3 MB  conda-forge\n",
      "    ucrt-10.0.22621.0          |       h57928b3_0         1.2 MB  conda-forge\n",
      "    vc14_runtime-14.40.33810   |      hcc2c482_20         733 KB  conda-forge\n",
      "    vs2015_runtime-14.40.33810 |      h3bf8584_20          17 KB  conda-forge\n",
      "    x264-1!164.3095            |       h8ffe710_2        1017 KB  conda-forge\n",
      "    x265-3.5                   |       h2d74725_3         5.3 MB  conda-forge\n",
      "    zlib-1.3.1                 |       h2466b09_1         106 KB  conda-forge\n",
      "    zstd-1.5.6                 |       h0ea2cb4_0         341 KB  conda-forge\n",
      "    ------------------------------------------------------------\n",
      "                                           Total:        80.3 MB\n",
      "\n",
      "The following NEW packages will be INSTALLED:\n",
      "\n",
      "  aom                conda-forge/win-64::aom-3.9.1-he0c23c2_0 \n",
      "  cairo              conda-forge/win-64::cairo-1.18.0-h32b962e_3 \n",
      "  dav1d              conda-forge/win-64::dav1d-1.2.1-hcfcfb64_0 \n",
      "  expat              conda-forge/win-64::expat-2.6.2-h63175ca_0 \n",
      "  ffmpeg             conda-forge/win-64::ffmpeg-7.0.2-gpl_h9cf63cc_102 \n",
      "  font-ttf-dejavu-s~ conda-forge/noarch::font-ttf-dejavu-sans-mono-2.37-hab24e00_0 \n",
      "  font-ttf-inconsol~ conda-forge/noarch::font-ttf-inconsolata-3.000-h77eed37_0 \n",
      "  font-ttf-source-c~ conda-forge/noarch::font-ttf-source-code-pro-2.038-h77eed37_0 \n",
      "  font-ttf-ubuntu    conda-forge/noarch::font-ttf-ubuntu-0.83-h77eed37_2 \n",
      "  fontconfig         conda-forge/win-64::fontconfig-2.14.2-hbde0cde_0 \n",
      "  fonts-conda-ecosy~ conda-forge/noarch::fonts-conda-ecosystem-1-0 \n",
      "  fonts-conda-forge  conda-forge/noarch::fonts-conda-forge-1-0 \n",
      "  graphite2          conda-forge/win-64::graphite2-1.3.13-h63175ca_1003 \n",
      "  harfbuzz           conda-forge/win-64::harfbuzz-9.0.0-h2bedf89_1 \n",
      "  icu                conda-forge/win-64::icu-75.1-he0c23c2_0 \n",
      "  libexpat           conda-forge/win-64::libexpat-2.6.2-h63175ca_0 \n",
      "  libglib            conda-forge/win-64::libglib-2.80.3-h7025463_2 \n",
      "  libiconv           conda-forge/win-64::libiconv-1.17-hcfcfb64_2 \n",
      "  libintl            conda-forge/win-64::libintl-0.22.5-h5728263_3 \n",
      "  libopus            conda-forge/win-64::libopus-1.3.1-h8ffe710_1 \n",
      "  libsqlite          conda-forge/win-64::libsqlite-3.46.0-h2466b09_0 \n",
      "  libwebp            conda-forge/win-64::libwebp-1.3.2-hcfcfb64_1 \n",
      "  libxml2            conda-forge/win-64::libxml2-2.12.7-h0f24e4e_4 \n",
      "  libzlib            conda-forge/win-64::libzlib-1.3.1-h2466b09_1 \n",
      "  openh264           conda-forge/win-64::openh264-2.4.1-h63175ca_0 \n",
      "  pcre2              conda-forge/win-64::pcre2-10.44-h3d7b363_2 \n",
      "  pixman             conda-forge/win-64::pixman-0.43.4-h63175ca_0 \n",
      "  svt-av1            conda-forge/win-64::svt-av1-2.2.1-he0c23c2_0 \n",
      "  ucrt               conda-forge/win-64::ucrt-10.0.22621.0-h57928b3_0 \n",
      "  vc14_runtime       conda-forge/win-64::vc14_runtime-14.40.33810-hcc2c482_20 \n",
      "  x264               conda-forge/win-64::x264-1!164.3095-h8ffe710_2 \n",
      "  x265               conda-forge/win-64::x265-3.5-h2d74725_3 \n",
      "\n",
      "The following packages will be UPDATED:\n",
      "\n",
      "  ca-certificates    pkgs/main::ca-certificates-2024.7.2-h~ --> conda-forge::ca-certificates-2024.8.30-h56e8100_0 \n",
      "  freetype            pkgs/main::freetype-2.12.1-ha860e81_0 --> conda-forge::freetype-2.12.1-hdaf720e_2 \n",
      "  libpng                pkgs/main::libpng-1.6.39-h8cc25b3_0 --> conda-forge::libpng-1.6.43-h19919ed_0 \n",
      "  openssl              pkgs/main::openssl-3.0.14-h827c3e9_0 --> conda-forge::openssl-3.3.1-h2466b09_3 \n",
      "  vs2015_runtime     pkgs/main::vs2015_runtime-14.40.33807~ --> conda-forge::vs2015_runtime-14.40.33810-h3bf8584_20 \n",
      "  zlib                    pkgs/main::zlib-1.2.13-h8cc25b3_1 --> conda-forge::zlib-1.3.1-h2466b09_1 \n",
      "  zstd                     pkgs/main::zstd-1.5.5-hd43e919_2 --> conda-forge::zstd-1.5.6-h0ea2cb4_0 \n",
      "\n",
      "The following packages will be SUPERSEDED by a higher-priority channel:\n",
      "\n",
      "  certifi            pkgs/main/win-64::certifi-2024.7.4-py~ --> conda-forge/noarch::certifi-2024.7.4-pyhd8ed1ab_0 \n",
      "  python               pkgs/main::python-3.10.14-he1021f5_1 --> conda-forge::python-3.10.14-h4de0772_0_cpython \n",
      "  tk                        pkgs/main::tk-8.6.14-h0416ee5_0 --> conda-forge::tk-8.6.13-h5226925_1 \n",
      "\n",
      "The following packages will be DOWNGRADED:\n",
      "\n",
      "  libtiff                                  4.5.1-hd77b12b_0 --> 4.5.0-h8a3f274_0 \n",
      "  pillow                             10.4.0-py310h827c3e9_0 --> 9.3.0-py310hdc2b20a_1 \n",
      "\n",
      "\n",
      "\n",
      "Downloading and Extracting Packages: ...working... done\n",
      "Preparing transaction: ...working... done\n",
      "Verifying transaction: ...working... done\n",
      "Executing transaction: ...working... done\n"
     ]
    }
   ],
   "source": [
    "#음성 파일 처리 라이브러리 설치\n",
    "! conda install -c conda-forge ffmpeg -y"
   ]
  },
  {
   "cell_type": "code",
   "execution_count": 5,
   "id": "7a23de59-363f-4897-9a8a-d36861d086c0",
   "metadata": {},
   "outputs": [
    {
     "name": "stdout",
     "output_type": "stream",
     "text": [
      "Collecting openai-whisper\n",
      "  Downloading openai-whisper-20231117.tar.gz (798 kB)\n",
      "     ---------------------------------------- 0.0/798.6 kB ? eta -:--:--\n",
      "     ---------------------------------------- 0.0/798.6 kB ? eta -:--:--\n",
      "     ---------------------------------------- 0.0/798.6 kB ? eta -:--:--\n",
      "     ------------- -------------------------- 262.1/798.6 kB ? eta -:--:--\n",
      "     ------------------------ ------------- 524.3/798.6 kB 1.4 MB/s eta 0:00:01\n",
      "     -------------------------------------- 798.6/798.6 kB 1.1 MB/s eta 0:00:00\n",
      "  Installing build dependencies: started\n",
      "  Installing build dependencies: finished with status 'done'\n",
      "  Getting requirements to build wheel: started\n",
      "  Getting requirements to build wheel: finished with status 'done'\n",
      "  Preparing metadata (pyproject.toml): started\n",
      "  Preparing metadata (pyproject.toml): finished with status 'done'\n",
      "Collecting numba (from openai-whisper)\n",
      "  Downloading numba-0.60.0-cp310-cp310-win_amd64.whl.metadata (2.8 kB)\n",
      "Requirement already satisfied: numpy in c:\\programdata\\anaconda3\\envs\\ict_ai_project_env01\\lib\\site-packages (from openai-whisper) (1.26.4)\n",
      "Requirement already satisfied: torch in c:\\programdata\\anaconda3\\envs\\ict_ai_project_env01\\lib\\site-packages (from openai-whisper) (2.2.1)\n",
      "Requirement already satisfied: tqdm in c:\\programdata\\anaconda3\\envs\\ict_ai_project_env01\\lib\\site-packages (from openai-whisper) (4.66.5)\n",
      "Collecting more-itertools (from openai-whisper)\n",
      "  Downloading more_itertools-10.4.0-py3-none-any.whl.metadata (36 kB)\n",
      "Collecting tiktoken (from openai-whisper)\n",
      "  Downloading tiktoken-0.7.0-cp310-cp310-win_amd64.whl.metadata (6.8 kB)\n",
      "Collecting llvmlite<0.44,>=0.43.0dev0 (from numba->openai-whisper)\n",
      "  Downloading llvmlite-0.43.0-cp310-cp310-win_amd64.whl.metadata (4.9 kB)\n",
      "Collecting regex>=2022.1.18 (from tiktoken->openai-whisper)\n",
      "  Downloading regex-2024.7.24-cp310-cp310-win_amd64.whl.metadata (41 kB)\n",
      "Requirement already satisfied: requests>=2.26.0 in c:\\programdata\\anaconda3\\envs\\ict_ai_project_env01\\lib\\site-packages (from tiktoken->openai-whisper) (2.32.3)\n",
      "Requirement already satisfied: filelock in c:\\programdata\\anaconda3\\envs\\ict_ai_project_env01\\lib\\site-packages (from torch->openai-whisper) (3.13.1)\n",
      "Requirement already satisfied: typing-extensions>=4.8.0 in c:\\programdata\\anaconda3\\envs\\ict_ai_project_env01\\lib\\site-packages (from torch->openai-whisper) (4.11.0)\n",
      "Requirement already satisfied: sympy in c:\\programdata\\anaconda3\\envs\\ict_ai_project_env01\\lib\\site-packages (from torch->openai-whisper) (1.13.2)\n",
      "Requirement already satisfied: networkx in c:\\programdata\\anaconda3\\envs\\ict_ai_project_env01\\lib\\site-packages (from torch->openai-whisper) (3.3)\n",
      "Requirement already satisfied: jinja2 in c:\\programdata\\anaconda3\\envs\\ict_ai_project_env01\\lib\\site-packages (from torch->openai-whisper) (3.1.4)\n",
      "Requirement already satisfied: fsspec in c:\\programdata\\anaconda3\\envs\\ict_ai_project_env01\\lib\\site-packages (from torch->openai-whisper) (2024.6.1)\n",
      "Requirement already satisfied: colorama in c:\\programdata\\anaconda3\\envs\\ict_ai_project_env01\\lib\\site-packages (from tqdm->openai-whisper) (0.4.6)\n",
      "Requirement already satisfied: charset-normalizer<4,>=2 in c:\\programdata\\anaconda3\\envs\\ict_ai_project_env01\\lib\\site-packages (from requests>=2.26.0->tiktoken->openai-whisper) (3.3.2)\n",
      "Requirement already satisfied: idna<4,>=2.5 in c:\\programdata\\anaconda3\\envs\\ict_ai_project_env01\\lib\\site-packages (from requests>=2.26.0->tiktoken->openai-whisper) (3.7)\n",
      "Requirement already satisfied: urllib3<3,>=1.21.1 in c:\\programdata\\anaconda3\\envs\\ict_ai_project_env01\\lib\\site-packages (from requests>=2.26.0->tiktoken->openai-whisper) (2.2.2)\n",
      "Requirement already satisfied: certifi>=2017.4.17 in c:\\programdata\\anaconda3\\envs\\ict_ai_project_env01\\lib\\site-packages (from requests>=2.26.0->tiktoken->openai-whisper) (2024.7.4)\n",
      "Requirement already satisfied: MarkupSafe>=2.0 in c:\\programdata\\anaconda3\\envs\\ict_ai_project_env01\\lib\\site-packages (from jinja2->torch->openai-whisper) (2.1.3)\n",
      "Requirement already satisfied: mpmath<1.4,>=1.1.0 in c:\\programdata\\anaconda3\\envs\\ict_ai_project_env01\\lib\\site-packages (from sympy->torch->openai-whisper) (1.3.0)\n",
      "Downloading more_itertools-10.4.0-py3-none-any.whl (60 kB)\n",
      "Downloading numba-0.60.0-cp310-cp310-win_amd64.whl (2.7 MB)\n",
      "   ---------------------------------------- 0.0/2.7 MB ? eta -:--:--\n",
      "   ----------- ---------------------------- 0.8/2.7 MB 5.6 MB/s eta 0:00:01\n",
      "   ---------------------------------------- 2.7/2.7 MB 7.4 MB/s eta 0:00:00\n",
      "Downloading tiktoken-0.7.0-cp310-cp310-win_amd64.whl (798 kB)\n",
      "   ---------------------------------------- 0.0/798.9 kB ? eta -:--:--\n",
      "   --------------------------------------- 798.9/798.9 kB 11.4 MB/s eta 0:00:00\n",
      "Downloading llvmlite-0.43.0-cp310-cp310-win_amd64.whl (28.1 MB)\n",
      "   ---------------------------------------- 0.0/28.1 MB ? eta -:--:--\n",
      "   ---- ----------------------------------- 3.1/28.1 MB 16.8 MB/s eta 0:00:02\n",
      "   ----------- ---------------------------- 8.4/28.1 MB 20.0 MB/s eta 0:00:01\n",
      "   ------------------- -------------------- 13.6/28.1 MB 22.0 MB/s eta 0:00:01\n",
      "   ----------------------------- ---------- 20.4/28.1 MB 24.8 MB/s eta 0:00:01\n",
      "   ---------------------------------------  28.0/28.1 MB 27.3 MB/s eta 0:00:01\n",
      "   ---------------------------------------- 28.1/28.1 MB 26.6 MB/s eta 0:00:00\n",
      "Downloading regex-2024.7.24-cp310-cp310-win_amd64.whl (269 kB)\n",
      "Building wheels for collected packages: openai-whisper\n",
      "  Building wheel for openai-whisper (pyproject.toml): started\n",
      "  Building wheel for openai-whisper (pyproject.toml): finished with status 'done'\n",
      "  Created wheel for openai-whisper: filename=openai_whisper-20231117-py3-none-any.whl size=801374 sha256=ebf7267f77885d79f86f62491245624e3c8106eec23569b93187fa9f421ff3f8\n",
      "  Stored in directory: c:\\users\\user\\appdata\\local\\pip\\cache\\wheels\\d0\\85\\e1\\9361b4cbea7dd4b7f6702fa4c3afc94877952eeb2b62f45f56\n",
      "Successfully built openai-whisper\n",
      "Installing collected packages: regex, more-itertools, llvmlite, tiktoken, numba, openai-whisper\n",
      "Successfully installed llvmlite-0.43.0 more-itertools-10.4.0 numba-0.60.0 openai-whisper-20231117 regex-2024.7.24 tiktoken-0.7.0\n"
     ]
    }
   ],
   "source": [
    "! pip install -U openai-whisper"
   ]
  },
  {
   "cell_type": "code",
   "execution_count": 7,
   "id": "6d48fe3e-3e6e-4dbf-a253-cbb640ce3c04",
   "metadata": {},
   "outputs": [
    {
     "data": {
      "text/plain": [
       "True"
      ]
     },
     "execution_count": 7,
     "metadata": {},
     "output_type": "execute_result"
    }
   ],
   "source": [
    "import torch\n",
    "\n",
    "torch.cuda.is_available()"
   ]
  },
  {
   "cell_type": "code",
   "execution_count": 8,
   "id": "022b7606-cb2f-4017-a03b-025b494770f3",
   "metadata": {},
   "outputs": [
    {
     "name": "stderr",
     "output_type": "stream",
     "text": [
      "100%|██████████████████████████████████████| 1.42G/1.42G [00:13<00:00, 109MiB/s]\n"
     ]
    }
   ],
   "source": [
    "import whisper\n",
    "\n",
    "model = whisper.load_model(\"medium\")\n",
    "filepath = 'c://ict_ai_project01/audio/korean-sample-long.mp3'\n",
    "result = model.transcribe(filepath)"
   ]
  },
  {
   "cell_type": "code",
   "execution_count": 9,
   "id": "d63ab75b-bb9e-40d4-b37e-c7dc7a9df4a6",
   "metadata": {},
   "outputs": [
    {
     "name": "stdout",
     "output_type": "stream",
     "text": [
      "음성 내용:   오늘 하루도 활기차게 시작해봅시다. 힘든 시간이 오더라도 절대로 포기하지 마세요. 기억하세요. 어떤 어려움도 우리를 더 강하게 만드는 도구일 뿐입니다. 우리의 성장은 우리가 겪는 도전에 있습니다. 지금 이 순간도 우리의 힘을 불러일으키는 중요한 단계일 거예요. 그래서 두려움을 버리고 힘찬 용기로 앞으로 나아가 보세요. 항상 긍정적인 마음으로 세상을 바라봅시다. 기억하세요. 우리 인생은 우리가 만드는 것입니다. 행복한 하루 되세요.\n"
     ]
    }
   ],
   "source": [
    "print(\"음성 내용: \", result[\"text\"])"
   ]
  },
  {
   "cell_type": "code",
   "execution_count": null,
   "id": "dd64ef97-59d5-4715-a6ae-a9b73a9988d0",
   "metadata": {},
   "outputs": [],
   "source": []
  }
 ],
 "metadata": {
  "kernelspec": {
   "display_name": "Python 3 (ipykernel)",
   "language": "python",
   "name": "python3"
  },
  "language_info": {
   "codemirror_mode": {
    "name": "ipython",
    "version": 3
   },
   "file_extension": ".py",
   "mimetype": "text/x-python",
   "name": "python",
   "nbconvert_exporter": "python",
   "pygments_lexer": "ipython3",
   "version": "3.10.14"
  }
 },
 "nbformat": 4,
 "nbformat_minor": 5
}
