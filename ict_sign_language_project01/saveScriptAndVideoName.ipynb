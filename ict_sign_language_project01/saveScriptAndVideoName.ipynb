{
 "cells": [
  {
   "cell_type": "code",
   "execution_count": 1,
   "id": "5ea2d8d1-5767-412c-aabe-7f8a8e286b71",
   "metadata": {},
   "outputs": [
    {
     "name": "stdout",
     "output_type": "stream",
     "text": [
      "Requirement already satisfied: pandas in c:\\programdata\\anaconda3\\envs\\ict_sign_language_env01\\lib\\site-packages (2.2.3)\n",
      "Requirement already satisfied: numpy>=1.22.4 in c:\\programdata\\anaconda3\\envs\\ict_sign_language_env01\\lib\\site-packages (from pandas) (1.23.4)\n",
      "Requirement already satisfied: python-dateutil>=2.8.2 in c:\\programdata\\anaconda3\\envs\\ict_sign_language_env01\\lib\\site-packages (from pandas) (2.9.0.post0)\n",
      "Requirement already satisfied: pytz>=2020.1 in c:\\programdata\\anaconda3\\envs\\ict_sign_language_env01\\lib\\site-packages (from pandas) (2024.2)\n",
      "Requirement already satisfied: tzdata>=2022.7 in c:\\programdata\\anaconda3\\envs\\ict_sign_language_env01\\lib\\site-packages (from pandas) (2024.1)\n",
      "Requirement already satisfied: six>=1.5 in c:\\programdata\\anaconda3\\envs\\ict_sign_language_env01\\lib\\site-packages (from python-dateutil>=2.8.2->pandas) (1.16.0)\n"
     ]
    }
   ],
   "source": [
    "!pip install pandas"
   ]
  },
  {
   "cell_type": "code",
   "execution_count": 2,
   "id": "95f3eabf-2ba3-41ab-a4a3-daabea7a98cd",
   "metadata": {},
   "outputs": [],
   "source": [
    "import os\n",
    "import json\n",
    "import numpy as np\n",
    "import pathlib\n",
    "from tqdm.notebook import tqdm\n",
    "import pandas as pd\n",
    "import glob\n",
    "import re"
   ]
  },
  {
   "cell_type": "code",
   "execution_count": 3,
   "id": "fdd41a6b-c8e2-468b-81c1-ef144a8fd144",
   "metadata": {},
   "outputs": [],
   "source": [
    "X_train_root_folder_path = \"data/keypoint_arr\"\n",
    "\n",
    "#키포인트 배열이 저장된 폴더에서 파일 리스트 리턴\n",
    "X_train_path_list = os.listdir(X_train_root_folder_path)"
   ]
  },
  {
   "cell_type": "code",
   "execution_count": 4,
   "id": "99e73d28-88ec-4669-bc9a-7175566143b5",
   "metadata": {},
   "outputs": [],
   "source": [
    "script_json_root_folder_path = \"C:/Users/User/Downloads/114.재난 안전 정보 전달을 위한 수어영상 데이터/01.데이터/1.Training/라벨링데이터/2.형태소_비수지(json)_TL/03_JSON_TrL\""
   ]
  },
  {
   "cell_type": "code",
   "execution_count": 5,
   "id": "211cca67-d11d-4ed9-af06-345ed2ceb238",
   "metadata": {},
   "outputs": [
    {
     "name": "stdout",
     "output_type": "stream",
     "text": [
      "X_train_name= NIA_SL_G1_EARTHQUAKE000013_1_CROWD1079481\n",
      "json_name= NIA_SL_G1_EARTHQUAKE000013_1_CROWD1079481\n",
      "f= C:/Users/User/Downloads/114.재난 안전 정보 전달을 위한 수어영상 데이터/01.데이터/1.Training/라벨링데이터/2.형태소_비수지(json)_TL/03_JSON_TrL\\2.untact_morpheme\\1.자연재난\\EARTHQUAKE\\1_1\\NIA_SL_G1_EARTHQUAKE000013_1_CROWD1079481.json\n",
      "====================================================================================================\n",
      "X_train_name= NIA_SL_G1_EARTHQUAKE000014_1_CROWD1079481\n",
      "json_name= NIA_SL_G1_EARTHQUAKE000014_1_CROWD1079481\n",
      "f= C:/Users/User/Downloads/114.재난 안전 정보 전달을 위한 수어영상 데이터/01.데이터/1.Training/라벨링데이터/2.형태소_비수지(json)_TL/03_JSON_TrL\\2.untact_morpheme\\1.자연재난\\EARTHQUAKE\\1_1\\NIA_SL_G1_EARTHQUAKE000014_1_CROWD1079481.json\n",
      "====================================================================================================\n"
     ]
    }
   ],
   "source": [
    "#수어 스크립트 파일의 경로를 저장할 리스트\n",
    "json_path_list = []\n",
    "\n",
    "for X_train_path in X_train_path_list[0:2]:\n",
    "    #numpy 배열의 파일명에서 마지막 4글자(.npy)를 제외한 파일명 리턴\n",
    "    X_train_name = X_train_path[:-4]\n",
    "    print(\"X_train_name=\", X_train_name)\n",
    "\n",
    "    json_name = None\n",
    "\n",
    "    #파일명이 _F로 끝나는 경우가 존재하기 때문에 모든 파일명이 .json으로 끝나도록 수정\n",
    "    if X_train_name[-1] == 'F':\n",
    "        json_name = f\"{X_train_name[:-2]}\"\n",
    "    else:\n",
    "        json_name = f\"{X_train_name}\"\n",
    "    print(\"json_name=\", json_name)\n",
    "\n",
    "    #script_json_root_folder_path 폴더의 모든 서브 폴더에서 json_name 파일을 찾아 경로를 리턴\n",
    "    for f in glob.glob(f'{script_json_root_folder_path}/**/{json_name}*.json', recursive=True):\n",
    "        print(\"f=\", f)\n",
    "        #json 파일의 경로를 json_path_list에 추가\n",
    "        json_path_list.append(f)\n",
    "        break\n",
    "        \n",
    "    print(\"=\" * 100)"
   ]
  },
  {
   "cell_type": "code",
   "execution_count": 6,
   "id": "9674c6f8-9a8b-4c52-861d-db73e9e8582d",
   "metadata": {},
   "outputs": [
    {
     "data": {
      "application/vnd.jupyter.widget-view+json": {
       "model_id": "09f476239cac4cf480829244bdd96d7d",
       "version_major": 2,
       "version_minor": 0
      },
      "text/plain": [
       "  0%|          | 0/352 [00:00<?, ?it/s]"
      ]
     },
     "metadata": {},
     "output_type": "display_data"
    }
   ],
   "source": [
    "#수어 스크립트 파일의 경로를 저장할 리스트\n",
    "json_path_list = []\n",
    "\n",
    "for X_train_path in tqdm(X_train_path_list):\n",
    "    #numpy 배열의 파일명에서 마지막 4글자(.npy)를 제외한 파일명 리턴\n",
    "    X_train_name = X_train_path[:-4]\n",
    "\n",
    "    json_name = None\n",
    "\n",
    "    #파일명이 _F로 끝나는 경우가 존재하기 때문에 모든 파일명이 .json으로 끝나도록 수정\n",
    "    if X_train_name[-1] == 'F':\n",
    "        json_name = f\"{X_train_name[:-2]}.json\"\n",
    "    else:\n",
    "        json_name = f\"{X_train_name}.json\"\n",
    "\n",
    "    #script_json_root_folder_path 폴더의 모든 서브 폴더에서 json_name 파일을 찾아 경로를 리턴\n",
    "    for f in glob.glob(f'{script_json_root_folder_path}/**/{json_name}', recursive=True):\n",
    "        #json 파일의 경로를 json_path_list에 추가\n",
    "        json_path_list.append(f)\n",
    "        break"
   ]
  },
  {
   "cell_type": "code",
   "execution_count": 7,
   "id": "53855c15-cc4d-4d64-bce7-54f788a39bd3",
   "metadata": {},
   "outputs": [
    {
     "data": {
      "text/plain": [
       "352"
      ]
     },
     "execution_count": 7,
     "metadata": {},
     "output_type": "execute_result"
    }
   ],
   "source": [
    "json_path_list\n",
    "len(json_path_list)"
   ]
  },
  {
   "cell_type": "code",
   "execution_count": 8,
   "id": "a820af64-7ebf-4afa-830d-1ca7e84fd573",
   "metadata": {},
   "outputs": [
    {
     "name": "stdout",
     "output_type": "stream",
     "text": [
      "korean_text= 충남 보령시 동남쪽 4km 지역 규모 3 5 지진발생  여진 등 안전에 주의바랍니다 \n",
      "====================================================================================================\n",
      "korean_text= 경북 상주시 북쪽 5km 지역 규모 4 3 지진발생  여진 등 안전에 주의바랍니다 \n",
      "====================================================================================================\n"
     ]
    }
   ],
   "source": [
    "for json_path in json_path_list[0:2]:\n",
    "    script_json = None\n",
    "\n",
    "    #수어 스크립트 JSON 파일 열기\n",
    "    with open(json_path, \"r\", encoding='UTF8') as json_file:\n",
    "        script_json = json.load(json_file)\n",
    "\n",
    "    #수어 동영상의 이름과 수어 스크립트 리턴\n",
    "    video_id = script_json[\"metadata\"][\"id\"]\n",
    "    korean_text = script_json[\"korean_text\"]\n",
    "\n",
    "    #korean_text에서 한글, 숫자, 영어가 아닌 문자를 공백으로 변환\n",
    "    korean_text = re.sub(r\"[^가-힣0-9a-zA-Z\\s]\", ' ', korean_text)\n",
    "    print(\"korean_text=\", korean_text)\n",
    "    print(\"=\" * 100)"
   ]
  },
  {
   "cell_type": "code",
   "execution_count": 9,
   "id": "688c9c5a-00f9-4ce2-a5f3-00fd4facef21",
   "metadata": {},
   "outputs": [
    {
     "data": {
      "application/vnd.jupyter.widget-view+json": {
       "model_id": "bd72363b315d4aa6aa210a9a1dd708b5",
       "version_major": 2,
       "version_minor": 0
      },
      "text/plain": [
       "  0%|          | 0/352 [00:00<?, ?it/s]"
      ]
     },
     "metadata": {},
     "output_type": "display_data"
    }
   ],
   "source": [
    "#수어 동영상의 이름과 수어 스크립트를 포함한 DataFrame 생성\n",
    "df = pd.DataFrame(columns=[\"video_id\", \"korean_text\"])\n",
    "\n",
    "row = 0\n",
    "\n",
    "for json_path in tqdm(json_path_list):\n",
    "    script_json = None\n",
    "\n",
    "    with open(json_path, \"r\", encoding='UTF8') as json_file:\n",
    "        script_json = json.load(json_file)\n",
    "\n",
    "    #수어 동영상의 이름과 수어 스크립트 리턴\n",
    "    video_id = script_json[\"metadata\"][\"id\"]\n",
    "    korean_text = script_json[\"korean_text\"]\n",
    "\n",
    "    #korean_text에서 한글, 숫자, 영어가 아닌 문자를 공백으로 변환\n",
    "    korean_text = re.sub(r\"[^가-힣0-9a-zA-Z\\s]\", ' ', korean_text)\n",
    "\n",
    "    #데이터프레임 row번째 행에 video_id, korean_text 추가\n",
    "    df.loc[row] = [video_id, korean_text]\n",
    "    row = row + 1"
   ]
  },
  {
   "cell_type": "code",
   "execution_count": 10,
   "id": "961e3235-490d-4db9-a2bc-9d4614e4c589",
   "metadata": {},
   "outputs": [
    {
     "data": {
      "text/html": [
       "<div>\n",
       "<style scoped>\n",
       "    .dataframe tbody tr th:only-of-type {\n",
       "        vertical-align: middle;\n",
       "    }\n",
       "\n",
       "    .dataframe tbody tr th {\n",
       "        vertical-align: top;\n",
       "    }\n",
       "\n",
       "    .dataframe thead th {\n",
       "        text-align: right;\n",
       "    }\n",
       "</style>\n",
       "<table border=\"1\" class=\"dataframe\">\n",
       "  <thead>\n",
       "    <tr style=\"text-align: right;\">\n",
       "      <th></th>\n",
       "      <th>video_id</th>\n",
       "      <th>korean_text</th>\n",
       "    </tr>\n",
       "  </thead>\n",
       "  <tbody>\n",
       "    <tr>\n",
       "      <th>0</th>\n",
       "      <td>NIA_SL_G1_EARTHQUAKE000013_1_CROWD1079481</td>\n",
       "      <td>충남 보령시 동남쪽 4km 지역 규모 3 5 지진발생  여진 등 안전에 주의바랍니다</td>\n",
       "    </tr>\n",
       "    <tr>\n",
       "      <th>1</th>\n",
       "      <td>NIA_SL_G1_EARTHQUAKE000014_1_CROWD1079481</td>\n",
       "      <td>경북 상주시 북쪽 5km 지역 규모 4 3 지진발생  여진 등 안전에 주의바랍니다</td>\n",
       "    </tr>\n",
       "    <tr>\n",
       "      <th>2</th>\n",
       "      <td>NIA_SL_G1_EARTHQUAKE000015_1_CROWD1079481</td>\n",
       "      <td>울진군 남쪽 6km 지역 규모 3 3 지진발생  여진 등 안전에 주의바랍니다</td>\n",
       "    </tr>\n",
       "    <tr>\n",
       "      <th>3</th>\n",
       "      <td>NIA_SL_G1_EARTHQUAKE000016_1_CROWD1079481</td>\n",
       "      <td>경북 경주시 남서쪽 10km 지역 규모 3 1 지진발생  여진 등 안전에 주의바랍니다</td>\n",
       "    </tr>\n",
       "    <tr>\n",
       "      <th>4</th>\n",
       "      <td>NIA_SL_G1_EARTHQUAKE000017_1_CROWD1079481</td>\n",
       "      <td>경북 상주시 남쪽 9km 지역 규모 3 0 지진발생  여진 등 안전에 주의바랍니다</td>\n",
       "    </tr>\n",
       "    <tr>\n",
       "      <th>...</th>\n",
       "      <td>...</td>\n",
       "      <td>...</td>\n",
       "    </tr>\n",
       "    <tr>\n",
       "      <th>347</th>\n",
       "      <td>NIA_SL_G4_SUMMERTIMEWATERGAME000096_1_TW07</td>\n",
       "      <td>행정안전부  안전사고 대비 요령   갯벌에 발이 깊이 빠진 경우 반대방향으로 엎드...</td>\n",
       "    </tr>\n",
       "    <tr>\n",
       "      <th>348</th>\n",
       "      <td>NIA_SL_G4_SUMMERTIMEWATERGAME000097_1_TW07</td>\n",
       "      <td>행정안전부  안전사고 대비 요령   갯벌에는 맨발로 들어가지 않는다  발에 잘 맞...</td>\n",
       "    </tr>\n",
       "    <tr>\n",
       "      <th>349</th>\n",
       "      <td>NIA_SL_G4_SUMMERTIMEWATERGAME000098_1_TW07</td>\n",
       "      <td>행정안전부  갯벌에는 어패류의 패각 등이 있어 맨발로 출입할 경우 심한 상처를 입...</td>\n",
       "    </tr>\n",
       "    <tr>\n",
       "      <th>350</th>\n",
       "      <td>NIA_SL_G4_SUMMERTIMEWATERGAME000099_1_TW07</td>\n",
       "      <td>행정안전부  안전사고 대비 요령   갯벌체험시 되도록 긴팔옷을 착용하며 창이 넓은...</td>\n",
       "    </tr>\n",
       "    <tr>\n",
       "      <th>351</th>\n",
       "      <td>NIA_SL_G4_SUMMERTIMEWATERGAME000100_1_TW07</td>\n",
       "      <td>행정안전부  안전사고 대비 요령   갯벌체험시 갑자기 안개가 낄 경우 만조 시간과...</td>\n",
       "    </tr>\n",
       "  </tbody>\n",
       "</table>\n",
       "<p>352 rows × 2 columns</p>\n",
       "</div>"
      ],
      "text/plain": [
       "                                       video_id  \\\n",
       "0     NIA_SL_G1_EARTHQUAKE000013_1_CROWD1079481   \n",
       "1     NIA_SL_G1_EARTHQUAKE000014_1_CROWD1079481   \n",
       "2     NIA_SL_G1_EARTHQUAKE000015_1_CROWD1079481   \n",
       "3     NIA_SL_G1_EARTHQUAKE000016_1_CROWD1079481   \n",
       "4     NIA_SL_G1_EARTHQUAKE000017_1_CROWD1079481   \n",
       "..                                          ...   \n",
       "347  NIA_SL_G4_SUMMERTIMEWATERGAME000096_1_TW07   \n",
       "348  NIA_SL_G4_SUMMERTIMEWATERGAME000097_1_TW07   \n",
       "349  NIA_SL_G4_SUMMERTIMEWATERGAME000098_1_TW07   \n",
       "350  NIA_SL_G4_SUMMERTIMEWATERGAME000099_1_TW07   \n",
       "351  NIA_SL_G4_SUMMERTIMEWATERGAME000100_1_TW07   \n",
       "\n",
       "                                           korean_text  \n",
       "0      충남 보령시 동남쪽 4km 지역 규모 3 5 지진발생  여진 등 안전에 주의바랍니다   \n",
       "1       경북 상주시 북쪽 5km 지역 규모 4 3 지진발생  여진 등 안전에 주의바랍니다   \n",
       "2          울진군 남쪽 6km 지역 규모 3 3 지진발생  여진 등 안전에 주의바랍니다   \n",
       "3     경북 경주시 남서쪽 10km 지역 규모 3 1 지진발생  여진 등 안전에 주의바랍니다   \n",
       "4       경북 상주시 남쪽 9km 지역 규모 3 0 지진발생  여진 등 안전에 주의바랍니다   \n",
       "..                                                 ...  \n",
       "347   행정안전부  안전사고 대비 요령   갯벌에 발이 깊이 빠진 경우 반대방향으로 엎드...  \n",
       "348   행정안전부  안전사고 대비 요령   갯벌에는 맨발로 들어가지 않는다  발에 잘 맞...  \n",
       "349   행정안전부  갯벌에는 어패류의 패각 등이 있어 맨발로 출입할 경우 심한 상처를 입...  \n",
       "350   행정안전부  안전사고 대비 요령   갯벌체험시 되도록 긴팔옷을 착용하며 창이 넓은...  \n",
       "351   행정안전부  안전사고 대비 요령   갯벌체험시 갑자기 안개가 낄 경우 만조 시간과...  \n",
       "\n",
       "[352 rows x 2 columns]"
      ]
     },
     "execution_count": 10,
     "metadata": {},
     "output_type": "execute_result"
    }
   ],
   "source": [
    "df"
   ]
  },
  {
   "cell_type": "code",
   "execution_count": 11,
   "id": "7f7a6721-83c6-42ee-b71e-363f2794bea2",
   "metadata": {},
   "outputs": [],
   "source": [
    "#행번호를 제외한 df를 파일로 저장\n",
    "df.to_csv(\"data/korean_text.csv\", index=False, encoding='utf-8-sig')"
   ]
  },
  {
   "cell_type": "code",
   "execution_count": null,
   "id": "16afd429-6c4f-4491-9ce9-607788d63c2a",
   "metadata": {},
   "outputs": [],
   "source": []
  }
 ],
 "metadata": {
  "kernelspec": {
   "display_name": "Python 3 (ipykernel)",
   "language": "python",
   "name": "python3"
  },
  "language_info": {
   "codemirror_mode": {
    "name": "ipython",
    "version": 3
   },
   "file_extension": ".py",
   "mimetype": "text/x-python",
   "name": "python",
   "nbconvert_exporter": "python",
   "pygments_lexer": "ipython3",
   "version": "3.10.14"
  }
 },
 "nbformat": 4,
 "nbformat_minor": 5
}
